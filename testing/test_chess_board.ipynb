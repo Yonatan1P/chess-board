{
 "metadata": {
  "language_info": {
   "codemirror_mode": {
    "name": "ipython",
    "version": 3
   },
   "file_extension": ".py",
   "mimetype": "text/x-python",
   "name": "python",
   "nbconvert_exporter": "python",
   "pygments_lexer": "ipython3",
   "version": "3.9.0-final"
  },
  "orig_nbformat": 2,
  "kernelspec": {
   "name": "python3",
   "display_name": "Python 3"
  }
 },
 "nbformat": 4,
 "nbformat_minor": 2,
 "cells": [
  {
   "cell_type": "code",
   "execution_count": 1,
   "metadata": {},
   "outputs": [
    {
     "output_type": "error",
     "ename": "ModuleNotFoundError",
     "evalue": "No module named 'chess_board'",
     "traceback": [
      "\u001b[0;31m---------------------------------------------------------------------------\u001b[0m",
      "\u001b[0;31mModuleNotFoundError\u001b[0m                       Traceback (most recent call last)",
      "\u001b[0;32m<ipython-input-1-d9e63e4ede0e>\u001b[0m in \u001b[0;36m<module>\u001b[0;34m\u001b[0m\n\u001b[1;32m      1\u001b[0m \u001b[0;32mimport\u001b[0m \u001b[0mmatplotlib\u001b[0m\u001b[0;34m.\u001b[0m\u001b[0mpyplot\u001b[0m \u001b[0;32mas\u001b[0m \u001b[0mplt\u001b[0m\u001b[0;34m\u001b[0m\u001b[0;34m\u001b[0m\u001b[0m\n\u001b[0;32m----> 2\u001b[0;31m \u001b[0;32mfrom\u001b[0m \u001b[0mchess_board\u001b[0m\u001b[0;34m.\u001b[0m\u001b[0mchess_board\u001b[0m \u001b[0;32mimport\u001b[0m \u001b[0mChessBoard\u001b[0m\u001b[0;34m\u001b[0m\u001b[0;34m\u001b[0m\u001b[0m\n\u001b[0m",
      "\u001b[0;31mModuleNotFoundError\u001b[0m: No module named 'chess_board'"
     ]
    }
   ],
   "source": [
    "import matplotlib.pyplot as plt\n",
    "from chess_board.chess_board import ChessBoard "
   ]
  },
  {
   "cell_type": "code",
   "execution_count": null,
   "metadata": {},
   "outputs": [],
   "source": [
    "def test_render_blank_board():\n",
    "    board = ChessBoard()\n",
    "    actual = board.render()\n",
    "    expected = plt.imshow(chess_grid)\n",
    "    assert actual == expected "
   ]
  },
  {
   "cell_type": "code",
   "execution_count": null,
   "metadata": {},
   "outputs": [],
   "source": [
    "def test_queens_attacking_vertically():\n",
    "    board = ChessBoard()\n",
    "    board.add_red(0,0)\n",
    "    board.add_blue(7,0)\n",
    "    actual = board.is_under_attack()\n",
    "    expected = True\n",
    "    assert actual == expected"
   ]
  },
  {
   "cell_type": "code",
   "execution_count": null,
   "metadata": {},
   "outputs": [],
   "source": [
    "def test_queens_attacking_horizantally():\n",
    "    board = ChessBoard()\n",
    "    board.add_red(0,0)\n",
    "    board.add_blue(0,7)\n",
    "    actual = board.is_under_attack()\n",
    "    expected = True\n",
    "    assert actual == expected"
   ]
  },
  {
   "cell_type": "code",
   "execution_count": null,
   "metadata": {},
   "outputs": [],
   "source": [
    "def test_queens_attacking_diagonally():\n",
    "    board = ChessBoard()\n",
    "    board.add_red(0,0)\n",
    "    board.add_blue(7,7)\n",
    "    actual = board.is_under_attack()\n",
    "    expected = True\n",
    "    assert actual == expected"
   ]
  },
  {
   "cell_type": "code",
   "execution_count": null,
   "metadata": {},
   "outputs": [],
   "source": [
    "def test_queens_not_attacking():\n",
    "    board = ChessBoard()\n",
    "    board.add_red(0,0)\n",
    "    board.add_blue(7,6)\n",
    "    actual = board.is_under_attack()\n",
    "    expected = False\n",
    "    assert actual == expected "
   ]
  }
 ]
}