{
 "metadata": {
  "language_info": {
   "codemirror_mode": {
    "name": "ipython",
    "version": 3
   },
   "file_extension": ".py",
   "mimetype": "text/x-python",
   "name": "python",
   "nbconvert_exporter": "python",
   "pygments_lexer": "ipython3",
   "version": "3.9.0-final"
  },
  "orig_nbformat": 2,
  "kernelspec": {
   "name": "python3",
   "display_name": "Python 3"
  }
 },
 "nbformat": 4,
 "nbformat_minor": 2,
 "cells": [
  {
   "cell_type": "code",
   "execution_count": 1,
   "metadata": {},
   "outputs": [],
   "source": [
    "%matplotlib inline\n",
    "import numpy as np\n",
    "import matplotlib.pyplot as plt"
   ]
  },
  {
   "cell_type": "code",
   "execution_count": 2,
   "metadata": {},
   "outputs": [],
   "source": [
    "chess_grid = np.zeros((8,8,3))\n",
    "for row in range(8):\n",
    "    for column in range(8):\n",
    "        if row%2==0:\n",
    "            if column%2==0:\n",
    "                chess_grid[row][column]=(0,0,0)\n",
    "            elif column%2==1:\n",
    "                chess_grid[row][column] = (1,1,1)\n",
    "        elif row%2==1:\n",
    "            if column%2==0:\n",
    "                chess_grid[row][column]=(1,1,1)\n",
    "            elif column%2==1:\n",
    "                chess_grid[row][column] = (0,0,0)"
   ]
  },
  {
   "cell_type": "code",
   "execution_count": 3,
   "metadata": {},
   "outputs": [],
   "source": [
    "class ChessBoard:\n",
    "    \n",
    "    def __init__(self,grid=chess_grid):\n",
    "        self.grid = grid\n",
    "        self.red_coordinates = []\n",
    "        self.blue_coordinates = []\n",
    "\n",
    "    def add_red(self,row,column):\n",
    "        self.red_coordinates = []\n",
    "        self.grid[row][column] = (1,.2,0)\n",
    "        self.red_coordinates += [row]\n",
    "        self.red_coordinates += [column]\n",
    "\n",
    "    def add_blue(self,row,column):\n",
    "        self.blue_coordinates = []\n",
    "        self.grid[row][column] = (0,1,1)\n",
    "        self.blue_coordinates += [row]\n",
    "        self.blue_coordinates += [column]\n",
    "\n",
    "    def render(self):\n",
    "        plt.imshow(self.grid)\n",
    "\n",
    "    def is_under_attack(self):\n",
    "        if self.red_coordinates[0]==self.blue_coordinates[0]:\n",
    "            return True\n",
    "        if self.red_coordinates[1]==self.blue_coordinates[1]:\n",
    "            return True\n",
    "        if abs(self.red_coordinates[0]-self.blue_coordinates[0])==abs(self.red_coordinates[1]-self.blue_coordinates[1]):\n",
    "            return True\n",
    "        return False"
   ]
  },
  {
   "cell_type": "code",
   "execution_count": 4,
   "metadata": {},
   "outputs": [],
   "source": [
    "board = ChessBoard()\n",
    "board.add_red(0,0)\n",
    "board.add_blue(7,0)\n",
    "actual = board.is_under_attack()\n",
    "expected = True\n",
    "assert actual == expected"
   ]
  },
  {
   "cell_type": "code",
   "execution_count": 5,
   "metadata": {},
   "outputs": [],
   "source": [
    "board = ChessBoard()\n",
    "board.add_red(0,0)\n",
    "board.add_blue(0,7)\n",
    "actual = board.is_under_attack()\n",
    "expected = True\n",
    "assert actual == expected"
   ]
  },
  {
   "cell_type": "code",
   "execution_count": null,
   "metadata": {},
   "outputs": [],
   "source": [
    "board = ChessBoard()\n",
    "board.add_red(0,0)\n",
    "board.add_blue(7,7)\n",
    "actual = board.is_under_attack()\n",
    "expected = True\n",
    "assert actual == expected"
   ]
  },
  {
   "cell_type": "code",
   "execution_count": null,
   "metadata": {},
   "outputs": [],
   "source": []
  }
 ]
}